{
 "cells": [
  {
   "cell_type": "code",
   "execution_count": null,
   "metadata": {},
   "outputs": [],
   "source": [
    "# running dbs using sql in python\n",
    "# connecting db to sqlite\n",
    "# executing question within sqlite and with python\n",
    "# join different tables together to answer questions\n",
    "# mongo is stretch \n",
    "\n",
    "\n",
    "curs2.close()"
   ]
  },
  {
   "cell_type": "code",
   "execution_count": 495,
   "metadata": {},
   "outputs": [],
   "source": [
    "import pandas as pd\n",
    "import numpy as np\n",
    "from sqlalchemy import create_engine\n",
    "import sqlite3"
   ]
  },
  {
   "cell_type": "code",
   "execution_count": 496,
   "metadata": {},
   "outputs": [],
   "source": [
    "df = pd.read_csv(\"titanic.csv\")"
   ]
  },
  {
   "cell_type": "code",
   "execution_count": 497,
   "metadata": {},
   "outputs": [
    {
     "data": {
      "text/html": [
       "<div>\n",
       "<style scoped>\n",
       "    .dataframe tbody tr th:only-of-type {\n",
       "        vertical-align: middle;\n",
       "    }\n",
       "\n",
       "    .dataframe tbody tr th {\n",
       "        vertical-align: top;\n",
       "    }\n",
       "\n",
       "    .dataframe thead th {\n",
       "        text-align: right;\n",
       "    }\n",
       "</style>\n",
       "<table border=\"1\" class=\"dataframe\">\n",
       "  <thead>\n",
       "    <tr style=\"text-align: right;\">\n",
       "      <th></th>\n",
       "      <th>Survived</th>\n",
       "      <th>Pclass</th>\n",
       "      <th>Name</th>\n",
       "      <th>Sex</th>\n",
       "      <th>Age</th>\n",
       "      <th>Siblings/Spouses Aboard</th>\n",
       "      <th>Parents/Children Aboard</th>\n",
       "      <th>Fare</th>\n",
       "    </tr>\n",
       "  </thead>\n",
       "  <tbody>\n",
       "    <tr>\n",
       "      <th>0</th>\n",
       "      <td>0</td>\n",
       "      <td>3</td>\n",
       "      <td>Mr. Owen Harris Braund</td>\n",
       "      <td>male</td>\n",
       "      <td>22.0</td>\n",
       "      <td>1</td>\n",
       "      <td>0</td>\n",
       "      <td>7.2500</td>\n",
       "    </tr>\n",
       "    <tr>\n",
       "      <th>1</th>\n",
       "      <td>1</td>\n",
       "      <td>1</td>\n",
       "      <td>Mrs. John Bradley (Florence Briggs Thayer) Cum...</td>\n",
       "      <td>female</td>\n",
       "      <td>38.0</td>\n",
       "      <td>1</td>\n",
       "      <td>0</td>\n",
       "      <td>71.2833</td>\n",
       "    </tr>\n",
       "    <tr>\n",
       "      <th>2</th>\n",
       "      <td>1</td>\n",
       "      <td>3</td>\n",
       "      <td>Miss. Laina Heikkinen</td>\n",
       "      <td>female</td>\n",
       "      <td>26.0</td>\n",
       "      <td>0</td>\n",
       "      <td>0</td>\n",
       "      <td>7.9250</td>\n",
       "    </tr>\n",
       "    <tr>\n",
       "      <th>3</th>\n",
       "      <td>1</td>\n",
       "      <td>1</td>\n",
       "      <td>Mrs. Jacques Heath (Lily May Peel) Futrelle</td>\n",
       "      <td>female</td>\n",
       "      <td>35.0</td>\n",
       "      <td>1</td>\n",
       "      <td>0</td>\n",
       "      <td>53.1000</td>\n",
       "    </tr>\n",
       "    <tr>\n",
       "      <th>4</th>\n",
       "      <td>0</td>\n",
       "      <td>3</td>\n",
       "      <td>Mr. William Henry Allen</td>\n",
       "      <td>male</td>\n",
       "      <td>35.0</td>\n",
       "      <td>0</td>\n",
       "      <td>0</td>\n",
       "      <td>8.0500</td>\n",
       "    </tr>\n",
       "  </tbody>\n",
       "</table>\n",
       "</div>"
      ],
      "text/plain": [
       "   Survived  Pclass                                               Name  \\\n",
       "0         0       3                             Mr. Owen Harris Braund   \n",
       "1         1       1  Mrs. John Bradley (Florence Briggs Thayer) Cum...   \n",
       "2         1       3                              Miss. Laina Heikkinen   \n",
       "3         1       1        Mrs. Jacques Heath (Lily May Peel) Futrelle   \n",
       "4         0       3                            Mr. William Henry Allen   \n",
       "\n",
       "      Sex   Age  Siblings/Spouses Aboard  Parents/Children Aboard     Fare  \n",
       "0    male  22.0                        1                        0   7.2500  \n",
       "1  female  38.0                        1                        0  71.2833  \n",
       "2  female  26.0                        0                        0   7.9250  \n",
       "3  female  35.0                        1                        0  53.1000  \n",
       "4    male  35.0                        0                        0   8.0500  "
      ]
     },
     "execution_count": 497,
     "metadata": {},
     "output_type": "execute_result"
    }
   ],
   "source": [
    "df.head()"
   ]
  },
  {
   "cell_type": "code",
   "execution_count": 498,
   "metadata": {},
   "outputs": [],
   "source": [
    "df[\"SiblingsSpouses\"] = df[\"Siblings/Spouses Aboard\"]"
   ]
  },
  {
   "cell_type": "code",
   "execution_count": 499,
   "metadata": {},
   "outputs": [],
   "source": [
    "df[\"ParentsChildren\"] = df[\"Parents/Children Aboard\"]"
   ]
  },
  {
   "cell_type": "code",
   "execution_count": 500,
   "metadata": {},
   "outputs": [],
   "source": [
    "df = df.drop([\"Parents/Children Aboard\",\"Siblings/Spouses Aboard\"], axis=1)"
   ]
  },
  {
   "cell_type": "code",
   "execution_count": 501,
   "metadata": {},
   "outputs": [
    {
     "data": {
      "text/html": [
       "<div>\n",
       "<style scoped>\n",
       "    .dataframe tbody tr th:only-of-type {\n",
       "        vertical-align: middle;\n",
       "    }\n",
       "\n",
       "    .dataframe tbody tr th {\n",
       "        vertical-align: top;\n",
       "    }\n",
       "\n",
       "    .dataframe thead th {\n",
       "        text-align: right;\n",
       "    }\n",
       "</style>\n",
       "<table border=\"1\" class=\"dataframe\">\n",
       "  <thead>\n",
       "    <tr style=\"text-align: right;\">\n",
       "      <th></th>\n",
       "      <th>Survived</th>\n",
       "      <th>Pclass</th>\n",
       "      <th>Name</th>\n",
       "      <th>Sex</th>\n",
       "      <th>Age</th>\n",
       "      <th>Fare</th>\n",
       "      <th>SiblingsSpouses</th>\n",
       "      <th>ParentsChildren</th>\n",
       "    </tr>\n",
       "  </thead>\n",
       "  <tbody>\n",
       "    <tr>\n",
       "      <th>0</th>\n",
       "      <td>0</td>\n",
       "      <td>3</td>\n",
       "      <td>Mr. Owen Harris Braund</td>\n",
       "      <td>male</td>\n",
       "      <td>22.0</td>\n",
       "      <td>7.2500</td>\n",
       "      <td>1</td>\n",
       "      <td>0</td>\n",
       "    </tr>\n",
       "    <tr>\n",
       "      <th>1</th>\n",
       "      <td>1</td>\n",
       "      <td>1</td>\n",
       "      <td>Mrs. John Bradley (Florence Briggs Thayer) Cum...</td>\n",
       "      <td>female</td>\n",
       "      <td>38.0</td>\n",
       "      <td>71.2833</td>\n",
       "      <td>1</td>\n",
       "      <td>0</td>\n",
       "    </tr>\n",
       "    <tr>\n",
       "      <th>2</th>\n",
       "      <td>1</td>\n",
       "      <td>3</td>\n",
       "      <td>Miss. Laina Heikkinen</td>\n",
       "      <td>female</td>\n",
       "      <td>26.0</td>\n",
       "      <td>7.9250</td>\n",
       "      <td>0</td>\n",
       "      <td>0</td>\n",
       "    </tr>\n",
       "    <tr>\n",
       "      <th>3</th>\n",
       "      <td>1</td>\n",
       "      <td>1</td>\n",
       "      <td>Mrs. Jacques Heath (Lily May Peel) Futrelle</td>\n",
       "      <td>female</td>\n",
       "      <td>35.0</td>\n",
       "      <td>53.1000</td>\n",
       "      <td>1</td>\n",
       "      <td>0</td>\n",
       "    </tr>\n",
       "    <tr>\n",
       "      <th>4</th>\n",
       "      <td>0</td>\n",
       "      <td>3</td>\n",
       "      <td>Mr. William Henry Allen</td>\n",
       "      <td>male</td>\n",
       "      <td>35.0</td>\n",
       "      <td>8.0500</td>\n",
       "      <td>0</td>\n",
       "      <td>0</td>\n",
       "    </tr>\n",
       "  </tbody>\n",
       "</table>\n",
       "</div>"
      ],
      "text/plain": [
       "   Survived  Pclass                                               Name  \\\n",
       "0         0       3                             Mr. Owen Harris Braund   \n",
       "1         1       1  Mrs. John Bradley (Florence Briggs Thayer) Cum...   \n",
       "2         1       3                              Miss. Laina Heikkinen   \n",
       "3         1       1        Mrs. Jacques Heath (Lily May Peel) Futrelle   \n",
       "4         0       3                            Mr. William Henry Allen   \n",
       "\n",
       "      Sex   Age     Fare  SiblingsSpouses  ParentsChildren  \n",
       "0    male  22.0   7.2500                1                0  \n",
       "1  female  38.0  71.2833                1                0  \n",
       "2  female  26.0   7.9250                0                0  \n",
       "3  female  35.0  53.1000                1                0  \n",
       "4    male  35.0   8.0500                0                0  "
      ]
     },
     "execution_count": 501,
     "metadata": {},
     "output_type": "execute_result"
    }
   ],
   "source": [
    "df.head(5)"
   ]
  },
  {
   "cell_type": "code",
   "execution_count": 502,
   "metadata": {},
   "outputs": [
    {
     "data": {
      "text/html": [
       "<div>\n",
       "<style scoped>\n",
       "    .dataframe tbody tr th:only-of-type {\n",
       "        vertical-align: middle;\n",
       "    }\n",
       "\n",
       "    .dataframe tbody tr th {\n",
       "        vertical-align: top;\n",
       "    }\n",
       "\n",
       "    .dataframe thead th {\n",
       "        text-align: right;\n",
       "    }\n",
       "</style>\n",
       "<table border=\"1\" class=\"dataframe\">\n",
       "  <thead>\n",
       "    <tr style=\"text-align: right;\">\n",
       "      <th></th>\n",
       "      <th>Survived</th>\n",
       "      <th>Pclass</th>\n",
       "      <th>Name</th>\n",
       "      <th>Sex</th>\n",
       "      <th>Age</th>\n",
       "      <th>Fare</th>\n",
       "      <th>SiblingsSpouses</th>\n",
       "      <th>ParentsChildren</th>\n",
       "    </tr>\n",
       "  </thead>\n",
       "  <tbody>\n",
       "    <tr>\n",
       "      <th>0</th>\n",
       "      <td>1</td>\n",
       "      <td>1</td>\n",
       "      <td>81</td>\n",
       "      <td>6</td>\n",
       "      <td>4</td>\n",
       "      <td>8</td>\n",
       "      <td>1</td>\n",
       "      <td>1</td>\n",
       "    </tr>\n",
       "  </tbody>\n",
       "</table>\n",
       "</div>"
      ],
      "text/plain": [
       "   Survived  Pclass  Name  Sex  Age  Fare  SiblingsSpouses  ParentsChildren\n",
       "0         1       1    81    6    4     8                1                1"
      ]
     },
     "execution_count": 502,
     "metadata": {},
     "output_type": "execute_result"
    }
   ],
   "source": [
    "#Retreive length of each column \n",
    "\n",
    "def get_string_count(df):\n",
    "    measurer = np.vectorize(len)\n",
    "    m_list = measurer(df.values.astype(str)).max(axis=0)\n",
    "    d = {}\n",
    "    for i,column in enumerate(df):\n",
    "        d.update({column:m_list[i]})\n",
    "    s_count = pd.DataFrame(d, index = [0])\n",
    "    return s_count\n",
    "\n",
    "get_string_count(df)"
   ]
  },
  {
   "cell_type": "code",
   "execution_count": 503,
   "metadata": {},
   "outputs": [
    {
     "name": "stdout",
     "output_type": "stream",
     "text": [
      "CREATE TABLE \"Titanic\" (\n",
      "\"Survived\" INTEGER,\n",
      "  \"Pclass\" INTEGER,\n",
      "  \"Name\" TEXT,\n",
      "  \"Sex\" TEXT,\n",
      "  \"Age\" REAL,\n",
      "  \"Fare\" REAL,\n",
      "  \"SiblingsSpouses\" INTEGER,\n",
      "  \"ParentsChildren\" INTEGER\n",
      ")\n"
     ]
    }
   ],
   "source": [
    "#Possible schema to use\n",
    "\n",
    "print(pd.io.sql.get_schema(df, 'Titanic'))"
   ]
  },
  {
   "cell_type": "code",
   "execution_count": 504,
   "metadata": {},
   "outputs": [],
   "source": [
    "sl_conn = sqlite3.connect('/Users/user/Documents/GitHub/Lambda/DS-Unit-3-Sprint-2-SQL-and-Databases/module3-nosql-and-document-oriented-databases/titanic.sqlite3')"
   ]
  },
  {
   "cell_type": "code",
   "execution_count": null,
   "metadata": {},
   "outputs": [],
   "source": [
    "df.to_sql(\"titanic\",con=sl_conn)"
   ]
  },
  {
   "cell_type": "code",
   "execution_count": 296,
   "metadata": {},
   "outputs": [],
   "source": [
    "sl_curs = sl_conn.cursor()"
   ]
  },
  {
   "cell_type": "code",
   "execution_count": 506,
   "metadata": {},
   "outputs": [
    {
     "data": {
      "text/plain": [
       "[('Mr. Owen Harris Braund',),\n",
       " ('Mrs. John Bradley (Florence Briggs Thayer) Cumings',),\n",
       " ('Miss. Laina Heikkinen',),\n",
       " ('Mrs. Jacques Heath (Lily May Peel) Futrelle',),\n",
       " ('Mr. William Henry Allen',),\n",
       " ('Mr. James Moran',),\n",
       " ('Mr. Timothy J McCarthy',),\n",
       " ('Master. Gosta Leonard Palsson',),\n",
       " ('Mrs. Oscar W (Elisabeth Vilhelmina Berg) Johnson',),\n",
       " ('Mrs. Nicholas (Adele Achem) Nasser',)]"
      ]
     },
     "execution_count": 506,
     "metadata": {},
     "output_type": "execute_result"
    }
   ],
   "source": [
    "sl_curs.execute(\"SELECT name FROM titanic LIMIT 10;\").fetchall()"
   ]
  },
  {
   "cell_type": "markdown",
   "metadata": {},
   "source": [
    "# Postgress Db Setup"
   ]
  },
  {
   "cell_type": "code",
   "execution_count": 507,
   "metadata": {},
   "outputs": [],
   "source": [
    "import psycopg2\n",
    "from creds import Elephant"
   ]
  },
  {
   "cell_type": "code",
   "execution_count": 535,
   "metadata": {},
   "outputs": [],
   "source": [
    "dbname = Elephant.dbname #same as user\n",
    "user = Elephant.user #same as dbname\n",
    "password = Elephant.password #don't commit this to github!\n",
    "host = Elephant.host #from SERVER type this in as string\n",
    "\n",
    "\n",
    "pg_conn = psycopg2.connect(dbname=dbname, user=user, password=password, host=host)\n",
    "pg_curs = pg_conn.cursor()\n",
    "    "
   ]
  },
  {
   "cell_type": "code",
   "execution_count": 533,
   "metadata": {},
   "outputs": [],
   "source": [
    "psy(pg_curs)"
   ]
  },
  {
   "cell_type": "code",
   "execution_count": 536,
   "metadata": {},
   "outputs": [
    {
     "data": {
      "text/plain": [
       "[(2, 'a second row', {'a': 1, 'b': ['dog', 'cat', 42], 'c': True})]"
      ]
     },
     "execution_count": 536,
     "metadata": {},
     "output_type": "execute_result"
    }
   ],
   "source": [
    "#Test connection was made properly\n",
    "\n",
    "pg_curs.execute('SELECT * FROM test_table;')\n",
    "pg_curs.fetchall()"
   ]
  },
  {
   "cell_type": "code",
   "execution_count": 510,
   "metadata": {},
   "outputs": [],
   "source": [
    "create_titanic_table = '''DROP TABLE IF EXISTS titanic4;\n",
    "  CREATE TABLE titanic4 (\n",
    "    index SERIAL PRIMARY KEY,\n",
    "    Survived INT,\n",
    "    Pclass INT,\n",
    "    Name VARCHAR(81),\n",
    "    Sex VARCHAR(6),\n",
    "    Age FLOAT,\n",
    "    Fare FLOAT,\n",
    "    SiblingsSpouses INT,\n",
    "    ParentsChildren INT\n",
    "  );\n",
    "'''"
   ]
  },
  {
   "cell_type": "code",
   "execution_count": 511,
   "metadata": {},
   "outputs": [],
   "source": [
    "pg_curs.execute(create_titanic_table)"
   ]
  },
  {
   "cell_type": "code",
   "execution_count": 226,
   "metadata": {},
   "outputs": [
    {
     "data": {
      "text/plain": [
       "(0, 0, 3, 'Mr. Owen Harris Braund', 'male', 22.0, 7.25, 1, 0)"
      ]
     },
     "execution_count": 226,
     "metadata": {},
     "output_type": "execute_result"
    }
   ],
   "source": [
    "tuple(df.values[0])"
   ]
  },
  {
   "cell_type": "code",
   "execution_count": 537,
   "metadata": {},
   "outputs": [
    {
     "name": "stdout",
     "output_type": "stream",
     "text": [
      "\n",
      "INSERT INTO titanic4\n",
      "(Survived, Pclass, Name, Sex, Age, Fare, SiblingsSpouses, ParentsChildren)\n",
      "VALUES (0, 3, 'Mr. Owen Harris Braund', 'male', 22.0, 7.25, 1, 0);\n",
      "\n"
     ]
    }
   ],
   "source": [
    "example_insert = \"\"\"\n",
    "INSERT INTO titanic4\n",
    "(Survived, Pclass, Name, Sex, Age, Fare, SiblingsSpouses, ParentsChildren)\n",
    "VALUES \"\"\" + str(tuple(df.values[0])) + ';'\"\"\"\n",
    "\"\"\"\n",
    "print(example_insert)"
   ]
  },
  {
   "cell_type": "code",
   "execution_count": 512,
   "metadata": {},
   "outputs": [],
   "source": [
    "# def insert_df_to_pg(df):\n",
    "\n",
    "for i in df.values:\n",
    "    passenger = str(tuple((i[0], i[1], i[2].replace(\"'\", \"\"),\n",
    "                           i[3], i[4], i[5], i[6], i[7])))\n",
    "    insert = \"\"\"\n",
    "    INSERT INTO titanic4\n",
    "    (Survived, Pclass, Name, Sex, Age, Fare, SiblingsSpouses, ParentsChildren)\n",
    "    VALUES \"\"\" + passenger + ';' \n",
    "    pg_curs.execute(insert)\n",
    "\n",
    "pg_curs.close()\n",
    "pg_conn.commit()"
   ]
  },
  {
   "cell_type": "code",
   "execution_count": 538,
   "metadata": {},
   "outputs": [],
   "source": [
    "pg_conn = psycopg2.connect(dbname=dbname, user=user, password=password, host=host)\n",
    "pg_curs = pg_conn.cursor()\n",
    "pg_curs.execute(\"SELECT * FROM titanic4 LIMIT 10;\")"
   ]
  },
  {
   "cell_type": "code",
   "execution_count": 539,
   "metadata": {},
   "outputs": [
    {
     "data": {
      "text/plain": [
       "[(1, 0, 3, 'Mr. Owen Harris Braund', 'male', 22.0, 7.25, 1, 0),\n",
       " (2,\n",
       "  1,\n",
       "  1,\n",
       "  'Mrs. John Bradley (Florence Briggs Thayer) Cumings',\n",
       "  'female',\n",
       "  38.0,\n",
       "  71.2833,\n",
       "  1,\n",
       "  0),\n",
       " (3, 1, 3, 'Miss. Laina Heikkinen', 'female', 26.0, 7.925, 0, 0),\n",
       " (4,\n",
       "  1,\n",
       "  1,\n",
       "  'Mrs. Jacques Heath (Lily May Peel) Futrelle',\n",
       "  'female',\n",
       "  35.0,\n",
       "  53.1,\n",
       "  1,\n",
       "  0),\n",
       " (5, 0, 3, 'Mr. William Henry Allen', 'male', 35.0, 8.05, 0, 0),\n",
       " (6, 0, 3, 'Mr. James Moran', 'male', 27.0, 8.4583, 0, 0),\n",
       " (7, 0, 1, 'Mr. Timothy J McCarthy', 'male', 54.0, 51.8625, 0, 0),\n",
       " (8, 0, 3, 'Master. Gosta Leonard Palsson', 'male', 2.0, 21.075, 3, 1),\n",
       " (9,\n",
       "  1,\n",
       "  3,\n",
       "  'Mrs. Oscar W (Elisabeth Vilhelmina Berg) Johnson',\n",
       "  'female',\n",
       "  27.0,\n",
       "  11.1333,\n",
       "  0,\n",
       "  2),\n",
       " (10,\n",
       "  1,\n",
       "  2,\n",
       "  'Mrs. Nicholas (Adele Achem) Nasser',\n",
       "  'female',\n",
       "  14.0,\n",
       "  30.0708,\n",
       "  1,\n",
       "  0)]"
      ]
     },
     "execution_count": 539,
     "metadata": {},
     "output_type": "execute_result"
    }
   ],
   "source": [
    "pg_curs.fetchall()"
   ]
  },
  {
   "cell_type": "markdown",
   "metadata": {},
   "source": [
    "# Questions from Module 4\n",
    "\n",
    "- How many passengers survived, and how many died?\n",
    "- How many passengers were in each class?\n",
    "- How many passengers survived/died within each class?\n",
    "- What was the average age of survivors vs nonsurvivors?\n",
    "- What was the average age of each passenger class?\n",
    "- What was the average fare by passenger class? By survival?\n",
    "- How many siblings/spouses aboard on average, by passenger class? By survival?\n",
    "- How many parents/children aboard on average, by passenger class? By survival?\n",
    "- Do any passengers have the same name?\n",
    "- (Bonus! Hard, may require pulling and processing with Python) How many married\n",
    "  couples were aboard the Titanic? Assume that two people (one `Mr.` and one\n",
    "  `Mrs.`) with the same last name and with at least 1 sibling/spouse aboard are\n",
    "  a married couple."
   ]
  },
  {
   "cell_type": "code",
   "execution_count": 545,
   "metadata": {},
   "outputs": [
    {
     "data": {
      "text/html": [
       "<div>\n",
       "<style scoped>\n",
       "    .dataframe tbody tr th:only-of-type {\n",
       "        vertical-align: middle;\n",
       "    }\n",
       "\n",
       "    .dataframe tbody tr th {\n",
       "        vertical-align: top;\n",
       "    }\n",
       "\n",
       "    .dataframe thead th {\n",
       "        text-align: right;\n",
       "    }\n",
       "</style>\n",
       "<table border=\"1\" class=\"dataframe\">\n",
       "  <thead>\n",
       "    <tr style=\"text-align: right;\">\n",
       "      <th></th>\n",
       "      <th>Survived</th>\n",
       "      <th>Pclass</th>\n",
       "      <th>Name</th>\n",
       "      <th>Sex</th>\n",
       "      <th>Age</th>\n",
       "      <th>Fare</th>\n",
       "      <th>SiblingsSpouses</th>\n",
       "      <th>ParentsChildren</th>\n",
       "    </tr>\n",
       "  </thead>\n",
       "  <tbody>\n",
       "    <tr>\n",
       "      <th>0</th>\n",
       "      <td>0</td>\n",
       "      <td>3</td>\n",
       "      <td>Mr. Owen Harris Braund</td>\n",
       "      <td>male</td>\n",
       "      <td>22.0</td>\n",
       "      <td>7.25</td>\n",
       "      <td>1</td>\n",
       "      <td>0</td>\n",
       "    </tr>\n",
       "  </tbody>\n",
       "</table>\n",
       "</div>"
      ],
      "text/plain": [
       "   Survived  Pclass                    Name   Sex   Age  Fare  \\\n",
       "0         0       3  Mr. Owen Harris Braund  male  22.0  7.25   \n",
       "\n",
       "   SiblingsSpouses  ParentsChildren  \n",
       "0                1                0  "
      ]
     },
     "execution_count": 545,
     "metadata": {},
     "output_type": "execute_result"
    }
   ],
   "source": [
    "df.head(1)"
   ]
  },
  {
   "cell_type": "code",
   "execution_count": null,
   "metadata": {},
   "outputs": [],
   "source": [
    "def psyco_q(query,session_name = pg_curs):\n",
    "    #function to open new db session, run query, and close \n",
    "    pg_conn = psycopg2.connect(dbname=dbname, user=user, password=password, host=host)\n",
    "    pg_curs = pg_conn.cursor()\n",
    "    pg_curs.execute(query)\n",
    "    return pg_curs.fetchall()\n",
    "    pg_curs.close()\n",
    "\n",
    "# How many passengers survived, and how many died?\n",
    "query1 = \"SELECT count(Survived) FROM titanic4 WHERE Survived = 1;\"\n",
    "query2 = \"SELECT count(Survived) FROM titanic4 WHERE Survived = 0;\"\n",
    "# How many passengers were in each class?\n",
    "query3 = \"SELECT Pclass,count(*) FROM titanic4 GROUP BY Pclass;\"\n",
    "# How many passengers survived/died within each class?\n",
    "query4 = \"SELECT Pclass,count(*) FROM titanic4 WHERE Survived = 1 GROUP BY Pclass;\"\n",
    "query5 = \"SELECT Pclass,count(*) FROM titanic4 WHERE Survived = 0 GROUP BY Pclass;\"\n",
    "# What was the average age of survivors vs nonsurvivors?\n",
    "query6 = \"SELECT avg(Age) FROM titanic4 WHERE Survived = 1;\"\n",
    "query7 = \"SELECT avg(Age) FROM titanic4 WHERE Survived = 0;\"\n",
    "# What was the average age of each passenger class?\n",
    "query8 = \"SELECT Pclass,avg(Age) FROM titanic4 WHERE Survived = 1 GROUP By Pclass;\"\n",
    "# What was the average fare by passenger class? By survival?\n",
    "query9 = \"SELECT Pclass,avg(Fare) FROM titanic4 GROUP BY Pclass;\"\n",
    "query10 = \"SELECT Survived,avg(Fare) FROM titanic4 GROUP BY Survived;\"\n",
    "# How many siblings/spouses aboard on average, by passenger class? By survival?\n",
    "query11 = \"SELECT Pclass,avg(SiblingsSpouses) FROM titanic4 GROUP BY Pclass;\"\n",
    "query12 = \"SELECT Survived,avg(SiblingsSpouses) FROM titanic4 GROUP BY Survived;\"\n",
    "# How many parents/children aboard on average, by passenger class? By survival?\n",
    "query13 = \"SELECT Pclass,avg(ParentsChildren) FROM titanic4 GROUP BY Pclass;\"\n",
    "query14 = \"SELECT Survived,avg(ParentsChildren) FROM titanic4 GROUP BY Survived;\"\n",
    "# Do any passengers have the same name?\n",
    "query15 = \"SELECT Name,count(*) FROM titanic4 GROUP BY Name Having count(Name) > 1;\"\n",
    "# (Bonus! Hard, may require pulling and processing with Python) How many married couples were aboard the Titanic? \n",
    "# Assume that two people (one Mr. and one Mrs.) with the same last name and with at least 1 sibling/spouse aboard \n",
    "# are a married couple.\n",
    "query16 = \"SELECT Name FROM titanic4 WHERE Name = 'Mr. Owen Harris Braund';\"\n",
    "\n",
    "print(f'Question 1 - Survived:{psyco_q(query1)[0]} Died:{psyco_q(query2)[0]}')\n",
    "print(f'Question 2 - {psyco_q(query3)}')\n",
    "print(f'Question 3 - Survived(Per Class):{psyco_q(query4)} Died(Per Class):{psyco_q(query5)}')\n",
    "print(f'Question 4 - Survivors:{psyco_q(query6)} Died:{psyco_q(query7)}')\n",
    "print(f'Question 5 - Average Age Per Class:{psyco_q(query8)}')\n",
    "print(f'Question 6 - Average Fare Per Class:{psyco_q(query9)} Average Fare per Survival:{psyco_q(query10)}')\n",
    "print(f'Question 6 - Average SS Per Class:{psyco_q(query11)} Average SS per Survival:{psyco_q(query12)}')\n",
    "print(f'Question 7 - Average PC Per Class:{psyco_q(query13)} Average PC per Survival:{psyco_q(query14)}')\n",
    "print(f'Question 8 - Same Name:{psyco_q(query15)}')\n",
    "print(f'Question 9 - Same Name:{(psyco_q(query16))}')\n"
   ]
  },
  {
   "cell_type": "code",
   "execution_count": null,
   "metadata": {},
   "outputs": [],
   "source": [
    "query16 = \"SELECT Name FROM titanic4 WHERE Name = 'Mr. Owen Harris Braund';\"\n",
    "query17 = \"SELECT SUBSTRING_INDEX(Name,' ', 1) FROM titanic4;\"\n",
    "p = psyco_q(query17)\n",
    "p\n",
    "# print (',    ,'.join([str(i) for i in p]))\n",
    "# print ([i for i in p])"
   ]
  },
  {
   "cell_type": "code",
   "execution_count": 654,
   "metadata": {},
   "outputs": [],
   "source": [
    "df3 = df.copy()"
   ]
  },
  {
   "cell_type": "code",
   "execution_count": 662,
   "metadata": {},
   "outputs": [],
   "source": [
    "last = []\n",
    "for name in df3[\"Name\"]:\n",
    "    lastname = name.split()[-1]\n",
    "    last.append(lastname)\n",
    "df3[\"lastname\"] = last\n"
   ]
  },
  {
   "cell_type": "code",
   "execution_count": 742,
   "metadata": {},
   "outputs": [
    {
     "data": {
      "text/plain": [
       "664"
      ]
     },
     "execution_count": 742,
     "metadata": {},
     "output_type": "execute_result"
    }
   ],
   "source": [
    "# [i for i in enumerate(df3[\"lastname\"])] \n",
    "\n",
    "condition = (df3['lastname'].value_counts() >= 2).tolist()\n",
    "\n",
    "len(df3['lastname'].value_counts())\n",
    "\n",
    "# df3.loc[df3[\"SiblingsSpouses\"] > 0 & df3[\"Name\"].str.contains(\"Mrs.\",\"Mr.\")]\n",
    "\n",
    "# df3.loc[df3[\"Name\"].str.contains(\"Mrs.\",\"Mr.\")]\n"
   ]
  },
  {
   "cell_type": "code",
   "execution_count": 661,
   "metadata": {},
   "outputs": [
    {
     "ename": "TypeError",
     "evalue": "expected a string object, not list",
     "output_type": "error",
     "traceback": [
      "\u001b[0;31m---------------------------------------------------------------------------\u001b[0m",
      "\u001b[0;31mTypeError\u001b[0m                                 Traceback (most recent call last)",
      "\u001b[0;32m<ipython-input-661-fb8d65124311>\u001b[0m in \u001b[0;36m<module>\u001b[0;34m\u001b[0m\n\u001b[0;32m----> 1\u001b[0;31m \u001b[0mdf3\u001b[0m\u001b[0;34m[\u001b[0m\u001b[0;34m\"Name\"\u001b[0m\u001b[0;34m]\u001b[0m\u001b[0;34m.\u001b[0m\u001b[0mstr\u001b[0m\u001b[0;34m.\u001b[0m\u001b[0mfind\u001b[0m\u001b[0;34m(\u001b[0m\u001b[0mlast\u001b[0m\u001b[0;34m)\u001b[0m\u001b[0;34m\u001b[0m\u001b[0;34m\u001b[0m\u001b[0m\n\u001b[0m",
      "\u001b[0;32m~/anaconda3/lib/python3.7/site-packages/pandas/core/strings.py\u001b[0m in \u001b[0;36mfind\u001b[0;34m(self, sub, start, end)\u001b[0m\n\u001b[1;32m   2798\u001b[0m                    also='rfind : Return highest indexes in each strings.'))\n\u001b[1;32m   2799\u001b[0m     \u001b[0;32mdef\u001b[0m \u001b[0mfind\u001b[0m\u001b[0;34m(\u001b[0m\u001b[0mself\u001b[0m\u001b[0;34m,\u001b[0m \u001b[0msub\u001b[0m\u001b[0;34m,\u001b[0m \u001b[0mstart\u001b[0m\u001b[0;34m=\u001b[0m\u001b[0;36m0\u001b[0m\u001b[0;34m,\u001b[0m \u001b[0mend\u001b[0m\u001b[0;34m=\u001b[0m\u001b[0;32mNone\u001b[0m\u001b[0;34m)\u001b[0m\u001b[0;34m:\u001b[0m\u001b[0;34m\u001b[0m\u001b[0;34m\u001b[0m\u001b[0m\n\u001b[0;32m-> 2800\u001b[0;31m         \u001b[0mresult\u001b[0m \u001b[0;34m=\u001b[0m \u001b[0mstr_find\u001b[0m\u001b[0;34m(\u001b[0m\u001b[0mself\u001b[0m\u001b[0;34m.\u001b[0m\u001b[0m_parent\u001b[0m\u001b[0;34m,\u001b[0m \u001b[0msub\u001b[0m\u001b[0;34m,\u001b[0m \u001b[0mstart\u001b[0m\u001b[0;34m=\u001b[0m\u001b[0mstart\u001b[0m\u001b[0;34m,\u001b[0m \u001b[0mend\u001b[0m\u001b[0;34m=\u001b[0m\u001b[0mend\u001b[0m\u001b[0;34m,\u001b[0m \u001b[0mside\u001b[0m\u001b[0;34m=\u001b[0m\u001b[0;34m'left'\u001b[0m\u001b[0;34m)\u001b[0m\u001b[0;34m\u001b[0m\u001b[0;34m\u001b[0m\u001b[0m\n\u001b[0m\u001b[1;32m   2801\u001b[0m         \u001b[0;32mreturn\u001b[0m \u001b[0mself\u001b[0m\u001b[0;34m.\u001b[0m\u001b[0m_wrap_result\u001b[0m\u001b[0;34m(\u001b[0m\u001b[0mresult\u001b[0m\u001b[0;34m)\u001b[0m\u001b[0;34m\u001b[0m\u001b[0;34m\u001b[0m\u001b[0m\n\u001b[1;32m   2802\u001b[0m \u001b[0;34m\u001b[0m\u001b[0m\n",
      "\u001b[0;32m~/anaconda3/lib/python3.7/site-packages/pandas/core/strings.py\u001b[0m in \u001b[0;36mstr_find\u001b[0;34m(arr, sub, start, end, side)\u001b[0m\n\u001b[1;32m   1198\u001b[0m     \u001b[0;32mif\u001b[0m \u001b[0;32mnot\u001b[0m \u001b[0misinstance\u001b[0m\u001b[0;34m(\u001b[0m\u001b[0msub\u001b[0m\u001b[0;34m,\u001b[0m \u001b[0mcompat\u001b[0m\u001b[0;34m.\u001b[0m\u001b[0mstring_types\u001b[0m\u001b[0;34m)\u001b[0m\u001b[0;34m:\u001b[0m\u001b[0;34m\u001b[0m\u001b[0;34m\u001b[0m\u001b[0m\n\u001b[1;32m   1199\u001b[0m         \u001b[0mmsg\u001b[0m \u001b[0;34m=\u001b[0m \u001b[0;34m'expected a string object, not {0}'\u001b[0m\u001b[0;34m\u001b[0m\u001b[0;34m\u001b[0m\u001b[0m\n\u001b[0;32m-> 1200\u001b[0;31m         \u001b[0;32mraise\u001b[0m \u001b[0mTypeError\u001b[0m\u001b[0;34m(\u001b[0m\u001b[0mmsg\u001b[0m\u001b[0;34m.\u001b[0m\u001b[0mformat\u001b[0m\u001b[0;34m(\u001b[0m\u001b[0mtype\u001b[0m\u001b[0;34m(\u001b[0m\u001b[0msub\u001b[0m\u001b[0;34m)\u001b[0m\u001b[0;34m.\u001b[0m\u001b[0m__name__\u001b[0m\u001b[0;34m)\u001b[0m\u001b[0;34m)\u001b[0m\u001b[0;34m\u001b[0m\u001b[0;34m\u001b[0m\u001b[0m\n\u001b[0m\u001b[1;32m   1201\u001b[0m \u001b[0;34m\u001b[0m\u001b[0m\n\u001b[1;32m   1202\u001b[0m     \u001b[0;32mif\u001b[0m \u001b[0mside\u001b[0m \u001b[0;34m==\u001b[0m \u001b[0;34m'left'\u001b[0m\u001b[0;34m:\u001b[0m\u001b[0;34m\u001b[0m\u001b[0;34m\u001b[0m\u001b[0m\n",
      "\u001b[0;31mTypeError\u001b[0m: expected a string object, not list"
     ]
    }
   ],
   "source": [
    "# df3[\"Name\"].str.find(last)"
   ]
  },
  {
   "cell_type": "markdown",
   "metadata": {},
   "source": [
    "# SQL Alchemy Imports"
   ]
  },
  {
   "cell_type": "code",
   "execution_count": 424,
   "metadata": {},
   "outputs": [],
   "source": [
    "# Session = sessionmaker(bind=dest_db_con)\n",
    "# session = Session()\n",
    "# session.bulk_insert_mappings(MentorInformation, df.to_dict(orient=\"records\"))\n",
    "# session.close()"
   ]
  },
  {
   "cell_type": "code",
   "execution_count": 461,
   "metadata": {},
   "outputs": [],
   "source": [
    "# df2 = pd.read_csv(\"titanic.csv\")"
   ]
  },
  {
   "cell_type": "code",
   "execution_count": 478,
   "metadata": {},
   "outputs": [
    {
     "data": {
      "text/html": [
       "<div>\n",
       "<style scoped>\n",
       "    .dataframe tbody tr th:only-of-type {\n",
       "        vertical-align: middle;\n",
       "    }\n",
       "\n",
       "    .dataframe tbody tr th {\n",
       "        vertical-align: top;\n",
       "    }\n",
       "\n",
       "    .dataframe thead th {\n",
       "        text-align: right;\n",
       "    }\n",
       "</style>\n",
       "<table border=\"1\" class=\"dataframe\">\n",
       "  <thead>\n",
       "    <tr style=\"text-align: right;\">\n",
       "      <th></th>\n",
       "      <th>Survived</th>\n",
       "      <th>Pclass</th>\n",
       "      <th>Name</th>\n",
       "      <th>Sex</th>\n",
       "      <th>Age</th>\n",
       "      <th>Siblings/Spouses Aboard</th>\n",
       "      <th>Parents/Children Aboard</th>\n",
       "      <th>Fare</th>\n",
       "    </tr>\n",
       "  </thead>\n",
       "  <tbody>\n",
       "    <tr>\n",
       "      <th>0</th>\n",
       "      <td>0</td>\n",
       "      <td>3</td>\n",
       "      <td>Mr. Owen Harris Braund</td>\n",
       "      <td>male</td>\n",
       "      <td>22.0</td>\n",
       "      <td>1</td>\n",
       "      <td>0</td>\n",
       "      <td>7.2500</td>\n",
       "    </tr>\n",
       "    <tr>\n",
       "      <th>1</th>\n",
       "      <td>1</td>\n",
       "      <td>1</td>\n",
       "      <td>Mrs. John Bradley (Florence Briggs Thayer) Cum...</td>\n",
       "      <td>female</td>\n",
       "      <td>38.0</td>\n",
       "      <td>1</td>\n",
       "      <td>0</td>\n",
       "      <td>71.2833</td>\n",
       "    </tr>\n",
       "    <tr>\n",
       "      <th>2</th>\n",
       "      <td>1</td>\n",
       "      <td>3</td>\n",
       "      <td>Miss. Laina Heikkinen</td>\n",
       "      <td>female</td>\n",
       "      <td>26.0</td>\n",
       "      <td>0</td>\n",
       "      <td>0</td>\n",
       "      <td>7.9250</td>\n",
       "    </tr>\n",
       "    <tr>\n",
       "      <th>3</th>\n",
       "      <td>1</td>\n",
       "      <td>1</td>\n",
       "      <td>Mrs. Jacques Heath (Lily May Peel) Futrelle</td>\n",
       "      <td>female</td>\n",
       "      <td>35.0</td>\n",
       "      <td>1</td>\n",
       "      <td>0</td>\n",
       "      <td>53.1000</td>\n",
       "    </tr>\n",
       "    <tr>\n",
       "      <th>4</th>\n",
       "      <td>0</td>\n",
       "      <td>3</td>\n",
       "      <td>Mr. William Henry Allen</td>\n",
       "      <td>male</td>\n",
       "      <td>35.0</td>\n",
       "      <td>0</td>\n",
       "      <td>0</td>\n",
       "      <td>8.0500</td>\n",
       "    </tr>\n",
       "  </tbody>\n",
       "</table>\n",
       "</div>"
      ],
      "text/plain": [
       "   Survived  Pclass                                               Name  \\\n",
       "0         0       3                             Mr. Owen Harris Braund   \n",
       "1         1       1  Mrs. John Bradley (Florence Briggs Thayer) Cum...   \n",
       "2         1       3                              Miss. Laina Heikkinen   \n",
       "3         1       1        Mrs. Jacques Heath (Lily May Peel) Futrelle   \n",
       "4         0       3                            Mr. William Henry Allen   \n",
       "\n",
       "      Sex   Age  Siblings/Spouses Aboard  Parents/Children Aboard     Fare  \n",
       "0    male  22.0                        1                        0   7.2500  \n",
       "1  female  38.0                        1                        0  71.2833  \n",
       "2  female  26.0                        0                        0   7.9250  \n",
       "3  female  35.0                        1                        0  53.1000  \n",
       "4    male  35.0                        0                        0   8.0500  "
      ]
     },
     "execution_count": 478,
     "metadata": {},
     "output_type": "execute_result"
    }
   ],
   "source": [
    "# df2.head(5)"
   ]
  },
  {
   "cell_type": "code",
   "execution_count": 481,
   "metadata": {},
   "outputs": [
    {
     "ename": "InvalidTextRepresentation",
     "evalue": "invalid input syntax for integer: \"Mr. Owen Harris Braund\"\nCONTEXT:  COPY titanic4, line 1, column pclass: \"Mr. Owen Harris Braund\"\n",
     "output_type": "error",
     "traceback": [
      "\u001b[0;31m---------------------------------------------------------------------------\u001b[0m",
      "\u001b[0;31mInvalidTextRepresentation\u001b[0m                 Traceback (most recent call last)",
      "\u001b[0;32m<ipython-input-481-33a927a3fa5a>\u001b[0m in \u001b[0;36m<module>\u001b[0;34m\u001b[0m\n\u001b[1;32m     49\u001b[0m \u001b[0mcur\u001b[0m \u001b[0;34m=\u001b[0m \u001b[0mconnection\u001b[0m\u001b[0;34m.\u001b[0m\u001b[0mcursor\u001b[0m\u001b[0;34m(\u001b[0m\u001b[0;34m)\u001b[0m\u001b[0;34m\u001b[0m\u001b[0;34m\u001b[0m\u001b[0m\n\u001b[1;32m     50\u001b[0m \u001b[0;31m#null values become ''\u001b[0m\u001b[0;34m\u001b[0m\u001b[0;34m\u001b[0m\u001b[0;34m\u001b[0m\u001b[0m\n\u001b[0;32m---> 51\u001b[0;31m \u001b[0mcur\u001b[0m\u001b[0;34m.\u001b[0m\u001b[0mcopy_from\u001b[0m\u001b[0;34m(\u001b[0m\u001b[0moutput\u001b[0m\u001b[0;34m,\u001b[0m \u001b[0;34m'titanic4'\u001b[0m\u001b[0;34m)\u001b[0m\u001b[0;34m\u001b[0m\u001b[0;34m\u001b[0m\u001b[0m\n\u001b[0m\u001b[1;32m     52\u001b[0m \u001b[0mconnection\u001b[0m\u001b[0;34m.\u001b[0m\u001b[0mcommit\u001b[0m\u001b[0;34m(\u001b[0m\u001b[0;34m)\u001b[0m\u001b[0;34m\u001b[0m\u001b[0;34m\u001b[0m\u001b[0m\n\u001b[1;32m     53\u001b[0m \u001b[0mcur\u001b[0m\u001b[0;34m.\u001b[0m\u001b[0mclose\u001b[0m\u001b[0;34m(\u001b[0m\u001b[0;34m)\u001b[0m\u001b[0;34m\u001b[0m\u001b[0;34m\u001b[0m\u001b[0m\n",
      "\u001b[0;31mInvalidTextRepresentation\u001b[0m: invalid input syntax for integer: \"Mr. Owen Harris Braund\"\nCONTEXT:  COPY titanic4, line 1, column pclass: \"Mr. Owen Harris Braund\"\n"
     ]
    }
   ],
   "source": [
    "from sqlalchemy import create_engine\n",
    "import psycopg2 as pg\n",
    "from creds import Elephant\n",
    "#load python script that batch loads pandas df to sql\n",
    "from io import StringIO\n",
    "import io\n",
    "\n",
    "address = f'postgresql://{user}:{password}@{host}:5432/{dbname}'\n",
    "\n",
    "engine = create_engine(address, max_overflow = -1)\n",
    "connection = engine.raw_connection()\n",
    "cursor = connection.cursor()\n",
    "\n",
    "# pg_conn = psycopg2.connect(dbname=dbname, user=user, password=password, host=host)\n",
    "# pg_curs = pg_conn.cursor()\n",
    "\n",
    "# #df is the dataframe containing an index and the columns \"Event\" and \"Day\"\n",
    "# #create Index column to use as primary key\n",
    "# df2.reset_index(inplace=True)\n",
    "# df2.rename(columns={'index':'Index'}, inplace =True)\n",
    "\n",
    "#create the table but first drop if it already exists\n",
    "command = '''DROP TABLE IF EXISTS titanic4;\n",
    "  CREATE TABLE titanic4 (\n",
    "    index SERIAL PRIMARY KEY,\n",
    "    Survived INT,\n",
    "    Pclass INT,\n",
    "    Name VARCHAR(81),\n",
    "    Sex VARCHAR(6),\n",
    "    Age FLOAT,\n",
    "    Fare FLOAT,\n",
    "    SiblingsSpouses INT,\n",
    "    ParentsChildren INT\n",
    "  );\n",
    "'''\n",
    "cursor.execute(command)\n",
    "connection.commit()\n",
    "cursor.close()\n",
    "\n",
    "#s"
   ]
  },
  {
   "cell_type": "code",
   "execution_count": null,
   "metadata": {},
   "outputs": [],
   "source": []
  }
 ],
 "metadata": {
  "kernelspec": {
   "display_name": "Python 3",
   "language": "python",
   "name": "python3"
  },
  "language_info": {
   "codemirror_mode": {
    "name": "ipython",
    "version": 3
   },
   "file_extension": ".py",
   "mimetype": "text/x-python",
   "name": "python",
   "nbconvert_exporter": "python",
   "pygments_lexer": "ipython3",
   "version": "3.7.3"
  }
 },
 "nbformat": 4,
 "nbformat_minor": 4
}
